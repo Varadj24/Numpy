{
 "cells": [
  {
   "cell_type": "code",
   "execution_count": 2,
   "id": "e3e44edd-df87-4ab6-a720-b69be0e7832b",
   "metadata": {},
   "outputs": [],
   "source": [
    "#Q1. Is there any difference in the data type of variables list_ and array_list? If there is then write a code to print the data types of both the variables."
   ]
  },
  {
   "cell_type": "code",
   "execution_count": 3,
   "id": "f5aacd37-6729-40f1-9e4f-fa46f02d73a4",
   "metadata": {},
   "outputs": [
    {
     "name": "stdout",
     "output_type": "stream",
     "text": [
      "Data type of list_ variable: <class 'list'>\n",
      "Data type of array_list variable: <class 'numpy.ndarray'>\n"
     ]
    }
   ],
   "source": [
    "import numpy as np\n",
    "\n",
    "list_ = ['1', '2', '3', '4', '5']\n",
    "array_list = np.array(object=list_)\n",
    "\n",
    "\n",
    "print(\"Data type of list_ variable:\", type(list_))\n",
    "print(\"Data type of array_list variable:\", type(array_list))\n"
   ]
  },
  {
   "cell_type": "code",
   "execution_count": null,
   "id": "c8ba3628-bcd6-4d42-af20-b149d6ede196",
   "metadata": {},
   "outputs": [],
   "source": []
  },
  {
   "cell_type": "code",
   "execution_count": 4,
   "id": "f599f14b-a080-4793-863f-d49413deadff",
   "metadata": {},
   "outputs": [],
   "source": [
    "#Q2. Write a code to print the data type of each and every element of both the variables list_ and arra_list"
   ]
  },
  {
   "cell_type": "code",
   "execution_count": 5,
   "id": "15b1f66e-ebd1-4bb1-9556-4d3efcc36594",
   "metadata": {},
   "outputs": [
    {
     "name": "stdout",
     "output_type": "stream",
     "text": [
      "Data types of elements in list_1:\n",
      "<class 'str'>\n",
      "<class 'str'>\n",
      "<class 'str'>\n",
      "<class 'str'>\n",
      "<class 'str'>\n",
      "\n",
      "Data types of elements in array_list1:\n",
      "<class 'numpy.str_'>\n",
      "<class 'numpy.str_'>\n",
      "<class 'numpy.str_'>\n",
      "<class 'numpy.str_'>\n",
      "<class 'numpy.str_'>\n"
     ]
    }
   ],
   "source": [
    "list_1 = ['1', '2', '3', '4', '5']\n",
    "array_list1 = np.array(object=list_1)\n",
    "\n",
    "print(\"Data types of elements in list_1:\")\n",
    "for element in list_1:\n",
    "    print(type(element))\n",
    "\n",
    "print(\"\\nData types of elements in array_list1:\")\n",
    "for element in array_list1:\n",
    "    print(type(element))\n"
   ]
  },
  {
   "cell_type": "code",
   "execution_count": null,
   "id": "5a91e7a3-8ba6-4820-acf4-d332dde77597",
   "metadata": {},
   "outputs": [],
   "source": []
  },
  {
   "cell_type": "code",
   "execution_count": 6,
   "id": "c54c848b-eedd-41d7-9738-ff346c9dec50",
   "metadata": {},
   "outputs": [],
   "source": [
    "#Q3. Considering the following changes in the variable, array_list: array_list = np.array(object = list_, dtype = int)\n",
    "#Will there be any difference in the data type of the elements present in both the variables, list_ and \n",
    "#arra_list? If so then print the data types of each and every element present in both the variables, list_ and arra_list"
   ]
  },
  {
   "cell_type": "code",
   "execution_count": 9,
   "id": "83e7946b-335a-40a4-a613-85f97aed485a",
   "metadata": {},
   "outputs": [
    {
     "name": "stdout",
     "output_type": "stream",
     "text": [
      "Data types of elements in list2:\n",
      "<class 'str'>\n",
      "<class 'str'>\n",
      "<class 'str'>\n",
      "<class 'str'>\n",
      "<class 'str'>\n",
      "\n",
      "Data types of elements in array_list2:\n",
      "<class 'numpy.int64'>\n",
      "<class 'numpy.int64'>\n",
      "<class 'numpy.int64'>\n",
      "<class 'numpy.int64'>\n",
      "<class 'numpy.int64'>\n"
     ]
    }
   ],
   "source": [
    "list2 = ['1','2', '3', '4', '5']\n",
    "array_list2 = np.array(object=list2, dtype=int)\n",
    "\n",
    "print(\"Data types of elements in list2:\")\n",
    "for element in list2:\n",
    "    print(type(element))\n",
    "\n",
    "print(\"\\nData types of elements in array_list2:\")\n",
    "for element in array_list2:\n",
    "    print(type(element))\n"
   ]
  },
  {
   "cell_type": "code",
   "execution_count": null,
   "id": "479f15b5-18eb-4874-b0a0-14c07255f9d4",
   "metadata": {},
   "outputs": [],
   "source": []
  },
  {
   "cell_type": "code",
   "execution_count": 10,
   "id": "126c4c98-8ba7-44a0-a52c-9d9f1f7b00ab",
   "metadata": {},
   "outputs": [],
   "source": [
    "#Q4. Write a code to find the following characteristics of variable, num_array:\n",
    "#(i) shape\n",
    "#(ii) size"
   ]
  },
  {
   "cell_type": "code",
   "execution_count": 11,
   "id": "27de1ecc-44f5-4445-aab7-5ad80839c085",
   "metadata": {},
   "outputs": [
    {
     "name": "stdout",
     "output_type": "stream",
     "text": [
      "Shape of num_array: (2, 3)\n",
      "Size of num_array: 6\n"
     ]
    }
   ],
   "source": [
    "num_list = [[1, 2, 3], [4, 5, 6]]\n",
    "num_array = np.array(object=num_list)\n",
    "\n",
    "# (i) Shape of num_array\n",
    "shape_of_array = num_array.shape\n",
    "print(\"Shape of num_array:\", shape_of_array)\n",
    "\n",
    "# (ii) Size of num_array\n",
    "size_of_array = num_array.size\n",
    "print(\"Size of num_array:\", size_of_array)"
   ]
  },
  {
   "cell_type": "code",
   "execution_count": null,
   "id": "05196dc7-40d9-4062-86fb-d54d8919be59",
   "metadata": {},
   "outputs": [],
   "source": []
  },
  {
   "cell_type": "code",
   "execution_count": 12,
   "id": "4a83326c-ed5c-49f9-b3d3-590c55af2b43",
   "metadata": {},
   "outputs": [],
   "source": [
    "#Q5.5. Write a code to create numpy array of 3*3 matrix containing zeros only, using a numpy array creation function"
   ]
  },
  {
   "cell_type": "code",
   "execution_count": 14,
   "id": "68d36624-5074-4978-80e0-8ab5e482be31",
   "metadata": {},
   "outputs": [
    {
     "name": "stdout",
     "output_type": "stream",
     "text": [
      "3x3 NumPy array containing zeros:\n",
      "[[0. 0. 0.]\n",
      " [0. 0. 0.]\n",
      " [0. 0. 0.]]\n"
     ]
    }
   ],
   "source": [
    "zero_array = np.zeros((3, 3))\n",
    "\n",
    "print(\"3x3 NumPy array containing zeros:\")\n",
    "print(zero_array)"
   ]
  },
  {
   "cell_type": "code",
   "execution_count": null,
   "id": "f583b6a8-61cf-4578-9710-a66bde8fff15",
   "metadata": {},
   "outputs": [],
   "source": []
  },
  {
   "cell_type": "code",
   "execution_count": 15,
   "id": "a68c84e2-ac96-497a-88b3-0ac3dff38895",
   "metadata": {},
   "outputs": [],
   "source": [
    "#Q6. Create an identity matrix of shape (5,5) using numpy functions?"
   ]
  },
  {
   "cell_type": "code",
   "execution_count": 16,
   "id": "30d67086-f1c0-439d-a6ab-88b0eb592725",
   "metadata": {},
   "outputs": [
    {
     "name": "stdout",
     "output_type": "stream",
     "text": [
      "5x5 Identity Matrix:\n",
      "[[1. 0. 0. 0. 0.]\n",
      " [0. 1. 0. 0. 0.]\n",
      " [0. 0. 1. 0. 0.]\n",
      " [0. 0. 0. 1. 0.]\n",
      " [0. 0. 0. 0. 1.]]\n"
     ]
    }
   ],
   "source": [
    "identity_matrix = np.eye(5)\n",
    "\n",
    "print(\"5x5 Identity Matrix:\")\n",
    "print(identity_matrix)"
   ]
  },
  {
   "cell_type": "code",
   "execution_count": null,
   "id": "db3d33ba-18b4-4a53-89a1-21942fc7680f",
   "metadata": {},
   "outputs": [],
   "source": []
  }
 ],
 "metadata": {
  "kernelspec": {
   "display_name": "Python 3 (ipykernel)",
   "language": "python",
   "name": "python3"
  },
  "language_info": {
   "codemirror_mode": {
    "name": "ipython",
    "version": 3
   },
   "file_extension": ".py",
   "mimetype": "text/x-python",
   "name": "python",
   "nbconvert_exporter": "python",
   "pygments_lexer": "ipython3",
   "version": "3.10.8"
  }
 },
 "nbformat": 4,
 "nbformat_minor": 5
}
